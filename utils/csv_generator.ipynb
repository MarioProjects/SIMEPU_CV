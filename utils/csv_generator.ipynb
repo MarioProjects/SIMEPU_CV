{
 "cells": [
  {
   "cell_type": "code",
   "execution_count": 1,
   "metadata": {},
   "outputs": [],
   "source": [
    "import pickle\n",
    "import pandas as pd\n",
    "import numpy as np"
   ]
  },
  {
   "cell_type": "code",
   "execution_count": 3,
   "metadata": {},
   "outputs": [],
   "source": [
    "data_paths_damages = pd.read_csv(\"data_damages_path.csv\")"
   ]
  },
  {
   "cell_type": "code",
   "execution_count": 6,
   "metadata": {},
   "outputs": [
    {
     "data": {
      "text/html": [
       "<div>\n",
       "<style scoped>\n",
       "    .dataframe tbody tr th:only-of-type {\n",
       "        vertical-align: middle;\n",
       "    }\n",
       "\n",
       "    .dataframe tbody tr th {\n",
       "        vertical-align: top;\n",
       "    }\n",
       "\n",
       "    .dataframe thead th {\n",
       "        text-align: right;\n",
       "    }\n",
       "</style>\n",
       "<table border=\"1\" class=\"dataframe\">\n",
       "  <thead>\n",
       "    <tr style=\"text-align: right;\">\n",
       "      <th></th>\n",
       "      <th>path</th>\n",
       "      <th>target</th>\n",
       "    </tr>\n",
       "  </thead>\n",
       "  <tbody>\n",
       "    <tr>\n",
       "      <th>0</th>\n",
       "      <td>Parcheo/VIRB_0004-3 11957_cropped_BF_3_3.jpg</td>\n",
       "      <td>1</td>\n",
       "    </tr>\n",
       "    <tr>\n",
       "      <th>1</th>\n",
       "      <td>Parcheo/VIRB_0004-3 00446_cropped_BF_1_2.jpg</td>\n",
       "      <td>1</td>\n",
       "    </tr>\n",
       "    <tr>\n",
       "      <th>2</th>\n",
       "      <td>Parcheo/VIRB_0004-3 05959_cropped_BF_2_2.jpg</td>\n",
       "      <td>1</td>\n",
       "    </tr>\n",
       "    <tr>\n",
       "      <th>3</th>\n",
       "      <td>Parcheo/VIRB_0004-3 10919_cropped_BF_2_1.jpg</td>\n",
       "      <td>1</td>\n",
       "    </tr>\n",
       "    <tr>\n",
       "      <th>4</th>\n",
       "      <td>Parcheo/VIRB_0001-1 04082_cropped_BF_3_1.jpg</td>\n",
       "      <td>1</td>\n",
       "    </tr>\n",
       "    <tr>\n",
       "      <th>...</th>\n",
       "      <td>...</td>\n",
       "      <td>...</td>\n",
       "    </tr>\n",
       "    <tr>\n",
       "      <th>7934</th>\n",
       "      <td>Alcantarillado/VIRB_0004 06812_cropped_BF_3_3.jpg</td>\n",
       "      <td>0</td>\n",
       "    </tr>\n",
       "    <tr>\n",
       "      <th>7935</th>\n",
       "      <td>Alcantarillado/VIRB_0004-4 1612_cropped_BF_3_2...</td>\n",
       "      <td>0</td>\n",
       "    </tr>\n",
       "    <tr>\n",
       "      <th>7936</th>\n",
       "      <td>Alcantarillado/VIRB_0004-3 17648_cropped_BF_3_...</td>\n",
       "      <td>0</td>\n",
       "    </tr>\n",
       "    <tr>\n",
       "      <th>7937</th>\n",
       "      <td>Alcantarillado/VIRB_0004 21955_cropped_BF_1_1.jpg</td>\n",
       "      <td>0</td>\n",
       "    </tr>\n",
       "    <tr>\n",
       "      <th>7938</th>\n",
       "      <td>Alcantarillado/VIRB_0004-4 3437_cropped_BF_3_3...</td>\n",
       "      <td>0</td>\n",
       "    </tr>\n",
       "  </tbody>\n",
       "</table>\n",
       "<p>7939 rows × 2 columns</p>\n",
       "</div>"
      ],
      "text/plain": [
       "                                                   path  target\n",
       "0          Parcheo/VIRB_0004-3 11957_cropped_BF_3_3.jpg       1\n",
       "1          Parcheo/VIRB_0004-3 00446_cropped_BF_1_2.jpg       1\n",
       "2          Parcheo/VIRB_0004-3 05959_cropped_BF_2_2.jpg       1\n",
       "3          Parcheo/VIRB_0004-3 10919_cropped_BF_2_1.jpg       1\n",
       "4          Parcheo/VIRB_0001-1 04082_cropped_BF_3_1.jpg       1\n",
       "...                                                 ...     ...\n",
       "7934  Alcantarillado/VIRB_0004 06812_cropped_BF_3_3.jpg       0\n",
       "7935  Alcantarillado/VIRB_0004-4 1612_cropped_BF_3_2...       0\n",
       "7936  Alcantarillado/VIRB_0004-3 17648_cropped_BF_3_...       0\n",
       "7937  Alcantarillado/VIRB_0004 21955_cropped_BF_1_1.jpg       0\n",
       "7938  Alcantarillado/VIRB_0004-4 3437_cropped_BF_3_3...       0\n",
       "\n",
       "[7939 rows x 2 columns]"
      ]
     },
     "execution_count": 6,
     "metadata": {},
     "output_type": "execute_result"
    }
   ],
   "source": [
    "data_paths_damages"
   ]
  },
  {
   "cell_type": "code",
   "execution_count": 7,
   "metadata": {},
   "outputs": [],
   "source": [
    "data_paths_full = pd.read_csv(\"data_paths.csv\")"
   ]
  },
  {
   "cell_type": "code",
   "execution_count": 8,
   "metadata": {},
   "outputs": [
    {
     "data": {
      "text/html": [
       "<div>\n",
       "<style scoped>\n",
       "    .dataframe tbody tr th:only-of-type {\n",
       "        vertical-align: middle;\n",
       "    }\n",
       "\n",
       "    .dataframe tbody tr th {\n",
       "        vertical-align: top;\n",
       "    }\n",
       "\n",
       "    .dataframe thead th {\n",
       "        text-align: right;\n",
       "    }\n",
       "</style>\n",
       "<table border=\"1\" class=\"dataframe\">\n",
       "  <thead>\n",
       "    <tr style=\"text-align: right;\">\n",
       "      <th></th>\n",
       "      <th>path</th>\n",
       "      <th>target</th>\n",
       "    </tr>\n",
       "  </thead>\n",
       "  <tbody>\n",
       "    <tr>\n",
       "      <th>0</th>\n",
       "      <td>Parcheo/VIRB_0004-3 11957_cropped_BF_3_3.jpg</td>\n",
       "      <td>0</td>\n",
       "    </tr>\n",
       "    <tr>\n",
       "      <th>1</th>\n",
       "      <td>Parcheo/VIRB_0004-3 00446_cropped_BF_1_2.jpg</td>\n",
       "      <td>0</td>\n",
       "    </tr>\n",
       "    <tr>\n",
       "      <th>2</th>\n",
       "      <td>Parcheo/VIRB_0004-3 05959_cropped_BF_2_2.jpg</td>\n",
       "      <td>0</td>\n",
       "    </tr>\n",
       "    <tr>\n",
       "      <th>3</th>\n",
       "      <td>Parcheo/VIRB_0004-3 10919_cropped_BF_2_1.jpg</td>\n",
       "      <td>0</td>\n",
       "    </tr>\n",
       "    <tr>\n",
       "      <th>4</th>\n",
       "      <td>Parcheo/VIRB_0001-1 04082_cropped_BF_3_1.jpg</td>\n",
       "      <td>0</td>\n",
       "    </tr>\n",
       "    <tr>\n",
       "      <th>...</th>\n",
       "      <td>...</td>\n",
       "      <td>...</td>\n",
       "    </tr>\n",
       "    <tr>\n",
       "      <th>7934</th>\n",
       "      <td>Alcantarillado/VIRB_0004 06812_cropped_BF_3_3.jpg</td>\n",
       "      <td>8</td>\n",
       "    </tr>\n",
       "    <tr>\n",
       "      <th>7935</th>\n",
       "      <td>Alcantarillado/VIRB_0004-4 1612_cropped_BF_3_2...</td>\n",
       "      <td>8</td>\n",
       "    </tr>\n",
       "    <tr>\n",
       "      <th>7936</th>\n",
       "      <td>Alcantarillado/VIRB_0004-3 17648_cropped_BF_3_...</td>\n",
       "      <td>8</td>\n",
       "    </tr>\n",
       "    <tr>\n",
       "      <th>7937</th>\n",
       "      <td>Alcantarillado/VIRB_0004 21955_cropped_BF_1_1.jpg</td>\n",
       "      <td>8</td>\n",
       "    </tr>\n",
       "    <tr>\n",
       "      <th>7938</th>\n",
       "      <td>Alcantarillado/VIRB_0004-4 3437_cropped_BF_3_3...</td>\n",
       "      <td>8</td>\n",
       "    </tr>\n",
       "  </tbody>\n",
       "</table>\n",
       "<p>7939 rows × 2 columns</p>\n",
       "</div>"
      ],
      "text/plain": [
       "                                                   path  target\n",
       "0          Parcheo/VIRB_0004-3 11957_cropped_BF_3_3.jpg       0\n",
       "1          Parcheo/VIRB_0004-3 00446_cropped_BF_1_2.jpg       0\n",
       "2          Parcheo/VIRB_0004-3 05959_cropped_BF_2_2.jpg       0\n",
       "3          Parcheo/VIRB_0004-3 10919_cropped_BF_2_1.jpg       0\n",
       "4          Parcheo/VIRB_0001-1 04082_cropped_BF_3_1.jpg       0\n",
       "...                                                 ...     ...\n",
       "7934  Alcantarillado/VIRB_0004 06812_cropped_BF_3_3.jpg       8\n",
       "7935  Alcantarillado/VIRB_0004-4 1612_cropped_BF_3_2...       8\n",
       "7936  Alcantarillado/VIRB_0004-3 17648_cropped_BF_3_...       8\n",
       "7937  Alcantarillado/VIRB_0004 21955_cropped_BF_1_1.jpg       8\n",
       "7938  Alcantarillado/VIRB_0004-4 3437_cropped_BF_3_3...       8\n",
       "\n",
       "[7939 rows x 2 columns]"
      ]
     },
     "execution_count": 8,
     "metadata": {},
     "output_type": "execute_result"
    }
   ],
   "source": [
    "data_paths_full"
   ]
  },
  {
   "cell_type": "code",
   "execution_count": 2,
   "metadata": {},
   "outputs": [],
   "source": [
    "with open(\"labels2targets.pkl\", 'rb') as f:\n",
    "    LABELS2TARGETS = pickle.load(f)"
   ]
  },
  {
   "cell_type": "code",
   "execution_count": 3,
   "metadata": {},
   "outputs": [
    {
     "data": {
      "text/plain": [
       "{'Grietas longitudinales': 5,\n",
       " 'Meteorización y desprendimiento': 6,\n",
       " 'Grietas en forma de piel de cocodrilo': 7,\n",
       " 'Sin daño': 2,\n",
       " 'Parcheo': 0,\n",
       " 'Marca vial': 1,\n",
       " 'Huecos': 4,\n",
       " 'Alcantarillado': 8,\n",
       " 'Grietas transversales': 3}"
      ]
     },
     "execution_count": 3,
     "metadata": {},
     "output_type": "execute_result"
    }
   ],
   "source": [
    "LABELS2TARGETS"
   ]
  },
  {
   "cell_type": "code",
   "execution_count": 4,
   "metadata": {},
   "outputs": [],
   "source": [
    "# Las clases con daño son: 3, 4, 0, 5, 6, 7,\n",
    "REASIGNED_DAMAGED_TARGETS = {0:0, 3:1, 4:2, 5:3, 6:4, 7:5}"
   ]
  },
  {
   "cell_type": "code",
   "execution_count": 10,
   "metadata": {},
   "outputs": [],
   "source": [
    "LABELS2TARGETSDAMAGED = {'Parcheo':0 , 'Grietas transversales': 1, 'Huecos': 2, \n",
    "                         'Grietas longitudinales': 3, 'Meteorización y desprendimiento': 4,\n",
    "                         'Grietas en forma de piel de cocodrilo': 5}\n",
    "with open('labels2targetsdamaged.pkl', 'wb') as handle:\n",
    "    pickle.dump(LABELS2TARGETSDAMAGED, handle, protocol=pickle.HIGHEST_PROTOCOL)"
   ]
  },
  {
   "cell_type": "code",
   "execution_count": 11,
   "metadata": {},
   "outputs": [],
   "source": [
    "TARGETS2LABELSDAMAGAED = {v: k for k, v in LABELS2TARGETSDAMAGED.items()}\n",
    "with open('targets2labelsdamaged.pkl', 'wb') as handle:\n",
    "    pickle.dump(TARGETS2LABELSDAMAGAED, handle, protocol=pickle.HIGHEST_PROTOCOL)"
   ]
  },
  {
   "cell_type": "code",
   "execution_count": 8,
   "metadata": {},
   "outputs": [
    {
     "data": {
      "text/plain": [
       "{0: 'Parcheo',\n",
       " 1: 'Grietas transversales',\n",
       " 2: 'Huecos',\n",
       " 3: 'Grietas longitudinales',\n",
       " 4: 'Meteorización y desprendimiento',\n",
       " 5: 'Grietas en forma de piel de cocodrilo'}"
      ]
     },
     "execution_count": 8,
     "metadata": {},
     "output_type": "execute_result"
    }
   ],
   "source": [
    "TARGETS2LABELSDAMAGAED"
   ]
  },
  {
   "cell_type": "code",
   "execution_count": 33,
   "metadata": {},
   "outputs": [],
   "source": [
    "# Las clases con daño son: 3, 4, 0, 5, 6, 7,\n",
    "damaged_df = data_paths_full[data_paths_full['target'].isin([3, 4, 0, 5, 6, 7])]"
   ]
  },
  {
   "cell_type": "code",
   "execution_count": 34,
   "metadata": {},
   "outputs": [
    {
     "data": {
      "text/plain": [
       "array([0, 3, 4, 5, 6, 7])"
      ]
     },
     "execution_count": 34,
     "metadata": {},
     "output_type": "execute_result"
    }
   ],
   "source": [
    "np.unique(damaged_df.target)"
   ]
  },
  {
   "cell_type": "code",
   "execution_count": 35,
   "metadata": {},
   "outputs": [],
   "source": [
    "damaged_df.reset_index(drop=True, inplace=True)"
   ]
  },
  {
   "cell_type": "code",
   "execution_count": 36,
   "metadata": {},
   "outputs": [
    {
     "data": {
      "text/html": [
       "<div>\n",
       "<style scoped>\n",
       "    .dataframe tbody tr th:only-of-type {\n",
       "        vertical-align: middle;\n",
       "    }\n",
       "\n",
       "    .dataframe tbody tr th {\n",
       "        vertical-align: top;\n",
       "    }\n",
       "\n",
       "    .dataframe thead th {\n",
       "        text-align: right;\n",
       "    }\n",
       "</style>\n",
       "<table border=\"1\" class=\"dataframe\">\n",
       "  <thead>\n",
       "    <tr style=\"text-align: right;\">\n",
       "      <th></th>\n",
       "      <th>path</th>\n",
       "      <th>target</th>\n",
       "    </tr>\n",
       "  </thead>\n",
       "  <tbody>\n",
       "    <tr>\n",
       "      <th>0</th>\n",
       "      <td>Parcheo/VIRB_0004-3 11957_cropped_BF_3_3.jpg</td>\n",
       "      <td>0</td>\n",
       "    </tr>\n",
       "    <tr>\n",
       "      <th>1</th>\n",
       "      <td>Parcheo/VIRB_0004-3 00446_cropped_BF_1_2.jpg</td>\n",
       "      <td>0</td>\n",
       "    </tr>\n",
       "    <tr>\n",
       "      <th>2</th>\n",
       "      <td>Parcheo/VIRB_0004-3 05959_cropped_BF_2_2.jpg</td>\n",
       "      <td>0</td>\n",
       "    </tr>\n",
       "    <tr>\n",
       "      <th>3</th>\n",
       "      <td>Parcheo/VIRB_0004-3 10919_cropped_BF_2_1.jpg</td>\n",
       "      <td>0</td>\n",
       "    </tr>\n",
       "    <tr>\n",
       "      <th>4</th>\n",
       "      <td>Parcheo/VIRB_0001-1 04082_cropped_BF_3_1.jpg</td>\n",
       "      <td>0</td>\n",
       "    </tr>\n",
       "    <tr>\n",
       "      <th>...</th>\n",
       "      <td>...</td>\n",
       "      <td>...</td>\n",
       "    </tr>\n",
       "    <tr>\n",
       "      <th>3770</th>\n",
       "      <td>Grietas en forma de piel de cocodrilo/VIRB_000...</td>\n",
       "      <td>7</td>\n",
       "    </tr>\n",
       "    <tr>\n",
       "      <th>3771</th>\n",
       "      <td>Grietas en forma de piel de cocodrilo/VIRB_000...</td>\n",
       "      <td>7</td>\n",
       "    </tr>\n",
       "    <tr>\n",
       "      <th>3772</th>\n",
       "      <td>Grietas en forma de piel de cocodrilo/VIRB_000...</td>\n",
       "      <td>7</td>\n",
       "    </tr>\n",
       "    <tr>\n",
       "      <th>3773</th>\n",
       "      <td>Grietas en forma de piel de cocodrilo/VIRB_000...</td>\n",
       "      <td>7</td>\n",
       "    </tr>\n",
       "    <tr>\n",
       "      <th>3774</th>\n",
       "      <td>Grietas en forma de piel de cocodrilo/VIRB_000...</td>\n",
       "      <td>7</td>\n",
       "    </tr>\n",
       "  </tbody>\n",
       "</table>\n",
       "<p>3775 rows × 2 columns</p>\n",
       "</div>"
      ],
      "text/plain": [
       "                                                   path  target\n",
       "0          Parcheo/VIRB_0004-3 11957_cropped_BF_3_3.jpg       0\n",
       "1          Parcheo/VIRB_0004-3 00446_cropped_BF_1_2.jpg       0\n",
       "2          Parcheo/VIRB_0004-3 05959_cropped_BF_2_2.jpg       0\n",
       "3          Parcheo/VIRB_0004-3 10919_cropped_BF_2_1.jpg       0\n",
       "4          Parcheo/VIRB_0001-1 04082_cropped_BF_3_1.jpg       0\n",
       "...                                                 ...     ...\n",
       "3770  Grietas en forma de piel de cocodrilo/VIRB_000...       7\n",
       "3771  Grietas en forma de piel de cocodrilo/VIRB_000...       7\n",
       "3772  Grietas en forma de piel de cocodrilo/VIRB_000...       7\n",
       "3773  Grietas en forma de piel de cocodrilo/VIRB_000...       7\n",
       "3774  Grietas en forma de piel de cocodrilo/VIRB_000...       7\n",
       "\n",
       "[3775 rows x 2 columns]"
      ]
     },
     "execution_count": 36,
     "metadata": {},
     "output_type": "execute_result"
    }
   ],
   "source": [
    "damaged_df"
   ]
  },
  {
   "cell_type": "code",
   "execution_count": 45,
   "metadata": {},
   "outputs": [],
   "source": [
    "for i, row in damaged_df.iterrows():\n",
    "    damaged_df.at[i,'target'] = REASIGNED_DAMAGED_TARGETS[row[\"target\"]]"
   ]
  },
  {
   "cell_type": "code",
   "execution_count": 46,
   "metadata": {},
   "outputs": [
    {
     "data": {
      "text/plain": [
       "array([0, 1, 2, 3, 4, 5])"
      ]
     },
     "execution_count": 46,
     "metadata": {},
     "output_type": "execute_result"
    }
   ],
   "source": [
    "np.unique(damaged_df.target)"
   ]
  },
  {
   "cell_type": "code",
   "execution_count": 47,
   "metadata": {},
   "outputs": [
    {
     "data": {
      "text/html": [
       "<div>\n",
       "<style scoped>\n",
       "    .dataframe tbody tr th:only-of-type {\n",
       "        vertical-align: middle;\n",
       "    }\n",
       "\n",
       "    .dataframe tbody tr th {\n",
       "        vertical-align: top;\n",
       "    }\n",
       "\n",
       "    .dataframe thead th {\n",
       "        text-align: right;\n",
       "    }\n",
       "</style>\n",
       "<table border=\"1\" class=\"dataframe\">\n",
       "  <thead>\n",
       "    <tr style=\"text-align: right;\">\n",
       "      <th></th>\n",
       "      <th>path</th>\n",
       "      <th>target</th>\n",
       "    </tr>\n",
       "  </thead>\n",
       "  <tbody>\n",
       "    <tr>\n",
       "      <th>0</th>\n",
       "      <td>Parcheo/VIRB_0004-3 11957_cropped_BF_3_3.jpg</td>\n",
       "      <td>0</td>\n",
       "    </tr>\n",
       "    <tr>\n",
       "      <th>1</th>\n",
       "      <td>Parcheo/VIRB_0004-3 00446_cropped_BF_1_2.jpg</td>\n",
       "      <td>0</td>\n",
       "    </tr>\n",
       "    <tr>\n",
       "      <th>2</th>\n",
       "      <td>Parcheo/VIRB_0004-3 05959_cropped_BF_2_2.jpg</td>\n",
       "      <td>0</td>\n",
       "    </tr>\n",
       "    <tr>\n",
       "      <th>3</th>\n",
       "      <td>Parcheo/VIRB_0004-3 10919_cropped_BF_2_1.jpg</td>\n",
       "      <td>0</td>\n",
       "    </tr>\n",
       "    <tr>\n",
       "      <th>4</th>\n",
       "      <td>Parcheo/VIRB_0001-1 04082_cropped_BF_3_1.jpg</td>\n",
       "      <td>0</td>\n",
       "    </tr>\n",
       "    <tr>\n",
       "      <th>...</th>\n",
       "      <td>...</td>\n",
       "      <td>...</td>\n",
       "    </tr>\n",
       "    <tr>\n",
       "      <th>3770</th>\n",
       "      <td>Grietas en forma de piel de cocodrilo/VIRB_000...</td>\n",
       "      <td>5</td>\n",
       "    </tr>\n",
       "    <tr>\n",
       "      <th>3771</th>\n",
       "      <td>Grietas en forma de piel de cocodrilo/VIRB_000...</td>\n",
       "      <td>5</td>\n",
       "    </tr>\n",
       "    <tr>\n",
       "      <th>3772</th>\n",
       "      <td>Grietas en forma de piel de cocodrilo/VIRB_000...</td>\n",
       "      <td>5</td>\n",
       "    </tr>\n",
       "    <tr>\n",
       "      <th>3773</th>\n",
       "      <td>Grietas en forma de piel de cocodrilo/VIRB_000...</td>\n",
       "      <td>5</td>\n",
       "    </tr>\n",
       "    <tr>\n",
       "      <th>3774</th>\n",
       "      <td>Grietas en forma de piel de cocodrilo/VIRB_000...</td>\n",
       "      <td>5</td>\n",
       "    </tr>\n",
       "  </tbody>\n",
       "</table>\n",
       "<p>3775 rows × 2 columns</p>\n",
       "</div>"
      ],
      "text/plain": [
       "                                                   path  target\n",
       "0          Parcheo/VIRB_0004-3 11957_cropped_BF_3_3.jpg       0\n",
       "1          Parcheo/VIRB_0004-3 00446_cropped_BF_1_2.jpg       0\n",
       "2          Parcheo/VIRB_0004-3 05959_cropped_BF_2_2.jpg       0\n",
       "3          Parcheo/VIRB_0004-3 10919_cropped_BF_2_1.jpg       0\n",
       "4          Parcheo/VIRB_0001-1 04082_cropped_BF_3_1.jpg       0\n",
       "...                                                 ...     ...\n",
       "3770  Grietas en forma de piel de cocodrilo/VIRB_000...       5\n",
       "3771  Grietas en forma de piel de cocodrilo/VIRB_000...       5\n",
       "3772  Grietas en forma de piel de cocodrilo/VIRB_000...       5\n",
       "3773  Grietas en forma de piel de cocodrilo/VIRB_000...       5\n",
       "3774  Grietas en forma de piel de cocodrilo/VIRB_000...       5\n",
       "\n",
       "[3775 rows x 2 columns]"
      ]
     },
     "execution_count": 47,
     "metadata": {},
     "output_type": "execute_result"
    }
   ],
   "source": [
    "damaged_df"
   ]
  },
  {
   "cell_type": "code",
   "execution_count": 57,
   "metadata": {},
   "outputs": [],
   "source": [
    "damaged_df.to_csv(\"only_damaged_path.csv\", header=True, index=False)"
   ]
  },
  {
   "cell_type": "code",
   "execution_count": 58,
   "metadata": {},
   "outputs": [
    {
     "data": {
      "text/html": [
       "<div>\n",
       "<style scoped>\n",
       "    .dataframe tbody tr th:only-of-type {\n",
       "        vertical-align: middle;\n",
       "    }\n",
       "\n",
       "    .dataframe tbody tr th {\n",
       "        vertical-align: top;\n",
       "    }\n",
       "\n",
       "    .dataframe thead th {\n",
       "        text-align: right;\n",
       "    }\n",
       "</style>\n",
       "<table border=\"1\" class=\"dataframe\">\n",
       "  <thead>\n",
       "    <tr style=\"text-align: right;\">\n",
       "      <th></th>\n",
       "      <th>path</th>\n",
       "      <th>target</th>\n",
       "    </tr>\n",
       "  </thead>\n",
       "  <tbody>\n",
       "    <tr>\n",
       "      <th>0</th>\n",
       "      <td>Parcheo/VIRB_0004-3 11957_cropped_BF_3_3.jpg</td>\n",
       "      <td>0</td>\n",
       "    </tr>\n",
       "    <tr>\n",
       "      <th>1</th>\n",
       "      <td>Parcheo/VIRB_0004-3 00446_cropped_BF_1_2.jpg</td>\n",
       "      <td>0</td>\n",
       "    </tr>\n",
       "    <tr>\n",
       "      <th>2</th>\n",
       "      <td>Parcheo/VIRB_0004-3 05959_cropped_BF_2_2.jpg</td>\n",
       "      <td>0</td>\n",
       "    </tr>\n",
       "    <tr>\n",
       "      <th>3</th>\n",
       "      <td>Parcheo/VIRB_0004-3 10919_cropped_BF_2_1.jpg</td>\n",
       "      <td>0</td>\n",
       "    </tr>\n",
       "    <tr>\n",
       "      <th>4</th>\n",
       "      <td>Parcheo/VIRB_0001-1 04082_cropped_BF_3_1.jpg</td>\n",
       "      <td>0</td>\n",
       "    </tr>\n",
       "    <tr>\n",
       "      <th>...</th>\n",
       "      <td>...</td>\n",
       "      <td>...</td>\n",
       "    </tr>\n",
       "    <tr>\n",
       "      <th>3770</th>\n",
       "      <td>Grietas en forma de piel de cocodrilo/VIRB_000...</td>\n",
       "      <td>5</td>\n",
       "    </tr>\n",
       "    <tr>\n",
       "      <th>3771</th>\n",
       "      <td>Grietas en forma de piel de cocodrilo/VIRB_000...</td>\n",
       "      <td>5</td>\n",
       "    </tr>\n",
       "    <tr>\n",
       "      <th>3772</th>\n",
       "      <td>Grietas en forma de piel de cocodrilo/VIRB_000...</td>\n",
       "      <td>5</td>\n",
       "    </tr>\n",
       "    <tr>\n",
       "      <th>3773</th>\n",
       "      <td>Grietas en forma de piel de cocodrilo/VIRB_000...</td>\n",
       "      <td>5</td>\n",
       "    </tr>\n",
       "    <tr>\n",
       "      <th>3774</th>\n",
       "      <td>Grietas en forma de piel de cocodrilo/VIRB_000...</td>\n",
       "      <td>5</td>\n",
       "    </tr>\n",
       "  </tbody>\n",
       "</table>\n",
       "<p>3775 rows × 2 columns</p>\n",
       "</div>"
      ],
      "text/plain": [
       "                                                   path  target\n",
       "0          Parcheo/VIRB_0004-3 11957_cropped_BF_3_3.jpg       0\n",
       "1          Parcheo/VIRB_0004-3 00446_cropped_BF_1_2.jpg       0\n",
       "2          Parcheo/VIRB_0004-3 05959_cropped_BF_2_2.jpg       0\n",
       "3          Parcheo/VIRB_0004-3 10919_cropped_BF_2_1.jpg       0\n",
       "4          Parcheo/VIRB_0001-1 04082_cropped_BF_3_1.jpg       0\n",
       "...                                                 ...     ...\n",
       "3770  Grietas en forma de piel de cocodrilo/VIRB_000...       5\n",
       "3771  Grietas en forma de piel de cocodrilo/VIRB_000...       5\n",
       "3772  Grietas en forma de piel de cocodrilo/VIRB_000...       5\n",
       "3773  Grietas en forma de piel de cocodrilo/VIRB_000...       5\n",
       "3774  Grietas en forma de piel de cocodrilo/VIRB_000...       5\n",
       "\n",
       "[3775 rows x 2 columns]"
      ]
     },
     "execution_count": 58,
     "metadata": {},
     "output_type": "execute_result"
    }
   ],
   "source": [
    "pd.read_csv(\"only_damaged_path.csv\")"
   ]
  }
 ],
 "metadata": {
  "kernelspec": {
   "display_name": "Python 3",
   "language": "python",
   "name": "python3"
  },
  "language_info": {
   "codemirror_mode": {
    "name": "ipython",
    "version": 3
   },
   "file_extension": ".py",
   "mimetype": "text/x-python",
   "name": "python",
   "nbconvert_exporter": "python",
   "pygments_lexer": "ipython3",
   "version": "3.7.5"
  }
 },
 "nbformat": 4,
 "nbformat_minor": 2
}
