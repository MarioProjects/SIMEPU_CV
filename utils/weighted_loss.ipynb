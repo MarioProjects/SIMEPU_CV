{
 "cells": [
  {
   "cell_type": "code",
   "execution_count": 1,
   "metadata": {},
   "outputs": [
    {
     "name": "stderr",
     "output_type": "stream",
     "text": [
      "usage: ipykernel_launcher.py [-h] [--verbose]\n",
      "                             [--optimizer {adam,sgd,sgd_momentum,rmsprop}]\n",
      "                             [--epochs EPOCHS] [--batch_size BATCH_SIZE]\n",
      "                             [--learning_rate LEARNING_RATE]\n",
      "                             [--min_learning_rate MIN_LEARNING_RATE]\n",
      "                             [--plateau_scheduler] [--steps_best]\n",
      "                             [--steps_scheduler] [--img_size IMG_SIZE]\n",
      "                             [--crop_size CROP_SIZE] [--model_name MODEL_NAME]\n",
      "                             [--pretrained]\n",
      "                             [--validation_size VALIDATION_SIZE]\n",
      "                             [--output_dir OUTPUT_DIR] [--data_augmentation]\n",
      "ipykernel_launcher.py: error: unrecognized arguments: -f /run/user/1005/jupyter/kernel-a2e29919-bd46-4fa8-9cee-a60d75028dc4.json\n"
     ]
    },
    {
     "name": "stdout",
     "output_type": "stream",
     "text": [
      "Working with Jupyter notebook! (Default Arguments)\n"
     ]
    }
   ],
   "source": [
    "#!/usr/bin/env python\n",
    "# coding: utf-8\n",
    "from time import gmtime, strftime\n",
    "\n",
    "import albumentations\n",
    "from torch.utils.tensorboard import SummaryWriter\n",
    "import numpy as np\n",
    "import torch\n",
    "import torch.nn as nn\n",
    "from torch.utils.data import DataLoader\n",
    "from torchvision import transforms\n",
    "import matplotlib.pyplot as plt\n",
    "\n",
    "# ---- My utils ----\n",
    "from models import *\n",
    "from utils.train_arguments import *\n",
    "from utils.utils_data import *\n",
    "from utils.utils_training import *"
   ]
  },
  {
   "cell_type": "code",
   "execution_count": 2,
   "metadata": {},
   "outputs": [
    {
     "data": {
      "text/html": [
       "<div>\n",
       "<style scoped>\n",
       "    .dataframe tbody tr th:only-of-type {\n",
       "        vertical-align: middle;\n",
       "    }\n",
       "\n",
       "    .dataframe tbody tr th {\n",
       "        vertical-align: top;\n",
       "    }\n",
       "\n",
       "    .dataframe thead th {\n",
       "        text-align: right;\n",
       "    }\n",
       "</style>\n",
       "<table border=\"1\" class=\"dataframe\">\n",
       "  <thead>\n",
       "    <tr style=\"text-align: right;\">\n",
       "      <th></th>\n",
       "      <th>path</th>\n",
       "      <th>target</th>\n",
       "    </tr>\n",
       "  </thead>\n",
       "  <tbody>\n",
       "    <tr>\n",
       "      <th>0</th>\n",
       "      <td>/home/maparla/DeepLearning/Datasets/SIMEPU/Gri...</td>\n",
       "      <td>0</td>\n",
       "    </tr>\n",
       "    <tr>\n",
       "      <th>1</th>\n",
       "      <td>/home/maparla/DeepLearning/Datasets/SIMEPU/Gri...</td>\n",
       "      <td>0</td>\n",
       "    </tr>\n",
       "    <tr>\n",
       "      <th>2</th>\n",
       "      <td>/home/maparla/DeepLearning/Datasets/SIMEPU/Gri...</td>\n",
       "      <td>0</td>\n",
       "    </tr>\n",
       "    <tr>\n",
       "      <th>3</th>\n",
       "      <td>/home/maparla/DeepLearning/Datasets/SIMEPU/Gri...</td>\n",
       "      <td>0</td>\n",
       "    </tr>\n",
       "    <tr>\n",
       "      <th>4</th>\n",
       "      <td>/home/maparla/DeepLearning/Datasets/SIMEPU/Gri...</td>\n",
       "      <td>0</td>\n",
       "    </tr>\n",
       "  </tbody>\n",
       "</table>\n",
       "</div>"
      ],
      "text/plain": [
       "                                                path  target\n",
       "0  /home/maparla/DeepLearning/Datasets/SIMEPU/Gri...       0\n",
       "1  /home/maparla/DeepLearning/Datasets/SIMEPU/Gri...       0\n",
       "2  /home/maparla/DeepLearning/Datasets/SIMEPU/Gri...       0\n",
       "3  /home/maparla/DeepLearning/Datasets/SIMEPU/Gri...       0\n",
       "4  /home/maparla/DeepLearning/Datasets/SIMEPU/Gri...       0"
      ]
     },
     "execution_count": 2,
     "metadata": {},
     "output_type": "execute_result"
    }
   ],
   "source": [
    "SIMEPU_PATHS.head()"
   ]
  },
  {
   "cell_type": "code",
   "execution_count": 3,
   "metadata": {},
   "outputs": [],
   "source": [
    "target_0 = len(SIMEPU_PATHS.loc[SIMEPU_PATHS['target'] == 0])\n",
    "target_1 = len(SIMEPU_PATHS.loc[SIMEPU_PATHS['target'] == 1])\n",
    "target_2 = len(SIMEPU_PATHS.loc[SIMEPU_PATHS['target'] == 2])\n",
    "target_3 = len(SIMEPU_PATHS.loc[SIMEPU_PATHS['target'] == 3])\n",
    "target_4 = len(SIMEPU_PATHS.loc[SIMEPU_PATHS['target'] == 4])\n",
    "target_5 = len(SIMEPU_PATHS.loc[SIMEPU_PATHS['target'] == 5])\n",
    "target_6 = len(SIMEPU_PATHS.loc[SIMEPU_PATHS['target'] == 6])\n",
    "target_7 = len(SIMEPU_PATHS.loc[SIMEPU_PATHS['target'] == 7])\n",
    "target_8 = len(SIMEPU_PATHS.loc[SIMEPU_PATHS['target'] == 8])"
   ]
  },
  {
   "cell_type": "code",
   "execution_count": 4,
   "metadata": {},
   "outputs": [],
   "source": [
    "total_targets = target_0+target_1+target_2+target_3+target_4+target_5+target_6+target_7+target_8"
   ]
  },
  {
   "cell_type": "code",
   "execution_count": 5,
   "metadata": {},
   "outputs": [
    {
     "data": {
      "text/plain": [
       "True"
      ]
     },
     "execution_count": 5,
     "metadata": {},
     "output_type": "execute_result"
    }
   ],
   "source": [
    "len(SIMEPU_PATHS)==total_targets"
   ]
  },
  {
   "cell_type": "code",
   "execution_count": 6,
   "metadata": {},
   "outputs": [],
   "source": [
    "weights = [1/(target_0/total_targets), 1/(target_1/total_targets), 1/(target_2/total_targets),\n",
    "1/(target_3/total_targets), 1/(target_4/total_targets), 1/(target_5/total_targets), \n",
    "1/(target_6/total_targets), 1/(target_7/total_targets)]"
   ]
  },
  {
   "cell_type": "code",
   "execution_count": 7,
   "metadata": {},
   "outputs": [
    {
     "data": {
      "text/plain": [
       "[6.626878130217029,\n",
       " 6.4439935064935066,\n",
       " 3.1023837436498636,\n",
       " 43.14673913043478,\n",
       " 20.567357512953368,\n",
       " 16.006048387096776,\n",
       " 6.632414369256474,\n",
       " 21.284182305630026]"
      ]
     },
     "execution_count": 7,
     "metadata": {},
     "output_type": "execute_result"
    }
   ],
   "source": [
    "weights"
   ]
  },
  {
   "cell_type": "code",
   "execution_count": 8,
   "metadata": {},
   "outputs": [],
   "source": [
    "class_weights = torch.FloatTensor(weights).cuda()\n",
    "criterion = nn.CrossEntropyLoss(weight=class_weights)"
   ]
  },
  {
   "cell_type": "code",
   "execution_count": 9,
   "metadata": {},
   "outputs": [],
   "source": [
    "with open(\"class_weights_divide.pkl\", \"wb\") as fp:   #Pickling\n",
    "    pickle.dump(weights, fp)"
   ]
  }
 ],
 "metadata": {
  "kernelspec": {
   "display_name": "Python 3",
   "language": "python",
   "name": "python3"
  },
  "language_info": {
   "codemirror_mode": {
    "name": "ipython",
    "version": 3
   },
   "file_extension": ".py",
   "mimetype": "text/x-python",
   "name": "python",
   "nbconvert_exporter": "python",
   "pygments_lexer": "ipython3",
   "version": "3.5.2"
  }
 },
 "nbformat": 4,
 "nbformat_minor": 2
}
