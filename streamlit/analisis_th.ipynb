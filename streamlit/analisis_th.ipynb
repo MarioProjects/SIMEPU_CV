{
 "cells": [
  {
   "cell_type": "code",
   "execution_count": 32,
   "metadata": {},
   "outputs": [],
   "source": [
    "from sklearn.metrics import precision_score, recall_score, f1_score, accuracy_score\n",
    "from sklearn import metrics\n",
    "import matplotlib.pyplot as plt\n",
    "import seaborn as sns\n",
    "import numpy as np\n",
    "import pandas as pd"
   ]
  },
  {
   "cell_type": "code",
   "execution_count": 19,
   "metadata": {},
   "outputs": [],
   "source": [
    "CLASSES = [\n",
    "    \"Alcantarillado\", \"Marca vial\", \"Hueco\", \"Parcheo\", \"Grietas longitudinales\",\n",
    "    \"Grietas en forma de piel de cocodrilo\", \"Grietas transversales\",\n",
    "    \"Meteorización y desprendimiento\",  # \"Espiras Magnéticas\"\n",
    "]"
   ]
  },
  {
   "cell_type": "code",
   "execution_count": 20,
   "metadata": {},
   "outputs": [],
   "source": [
    "def load_multilabel_predictions():\n",
    "    return np.load(\"todos_targets.npy\"), np.load(\"todos_logits.npy\")"
   ]
  },
  {
   "cell_type": "code",
   "execution_count": 21,
   "metadata": {},
   "outputs": [],
   "source": [
    "targets, logits = load_multilabel_predictions()"
   ]
  },
  {
   "cell_type": "code",
   "execution_count": 22,
   "metadata": {},
   "outputs": [],
   "source": [
    "umbral = 0.5"
   ]
  },
  {
   "cell_type": "code",
   "execution_count": 23,
   "metadata": {},
   "outputs": [],
   "source": [
    "logits_thresholded = (logits > umbral).astype(np.uint8)\n",
    "avg = \"micro\"\n",
    "res = {\"Clase\": [], \"Accuracy\": [], \"Recall\": [], \"Precision\": [], \"F1\": []}\n",
    "for indx, clase in enumerate(CLASSES):\n",
    "    pr = precision_score(targets[:, indx], logits_thresholded[:, indx], average=avg)\n",
    "    re = recall_score(targets[:, indx], logits_thresholded[:, indx], average=avg)\n",
    "    f1 = f1_score(targets[:, indx], logits_thresholded[:, indx], average=avg)\n",
    "    acc = accuracy_score(targets[:, indx], logits_thresholded[:, indx])\n",
    "    res[\"Clase\"].append(clase)\n",
    "    res[\"Accuracy\"].append(acc)\n",
    "    res[\"Recall\"].append(re)\n",
    "    res[\"Precision\"].append(pr)\n",
    "    res[\"F1\"].append(f1)"
   ]
  },
  {
   "cell_type": "code",
   "execution_count": 33,
   "metadata": {},
   "outputs": [],
   "source": [
    "y = targets.ravel()\n",
    "scores = logits.ravel()\n",
    "fpr, tpr, thresholds = metrics.roc_curve(y, scores, pos_label=1)"
   ]
  },
  {
   "cell_type": "code",
   "execution_count": 34,
   "metadata": {},
   "outputs": [
    {
     "data": {
      "text/plain": [
       "array([2.0000000e+00, 1.0000000e+00, 9.9999988e-01, ..., 2.7637820e-05,\n",
       "       2.7550086e-05, 6.2112093e-07], dtype=float32)"
      ]
     },
     "execution_count": 34,
     "metadata": {},
     "output_type": "execute_result"
    }
   ],
   "source": [
    "thresholds"
   ]
  },
  {
   "cell_type": "code",
   "execution_count": 35,
   "metadata": {},
   "outputs": [
    {
     "data": {
      "text/plain": [
       "[<matplotlib.lines.Line2D at 0x7ff3eab2e490>]"
      ]
     },
     "execution_count": 35,
     "metadata": {},
     "output_type": "execute_result"
    },
    {
     "data": {
      "image/png": "[encoded data removed]",
      "text/plain": [
       "<Figure size 432x288 with 1 Axes>"
      ]
     },
     "metadata": {
      "needs_background": "light"
     },
     "output_type": "display_data"
    }
   ],
   "source": [
    "plt.plot(fpr, tpr)"
   ]
  },
  {
   "cell_type": "code",
   "execution_count": 36,
   "metadata": {},
   "outputs": [],
   "source": [
    "def find_nearest(array, value):\n",
    "    array = np.asarray(array)\n",
    "    idx = (np.abs(array - value)).argmin()\n",
    "    return array[idx]"
   ]
  },
  {
   "cell_type": "code",
   "execution_count": 57,
   "metadata": {},
   "outputs": [
    {
     "name": "stdout",
     "output_type": "stream",
     "text": [
      "item at: 2039\n",
      "with fpr value : 0.004996904572388786\n",
      "with tpr value : 0.8929656461790138\n",
      "using th : 0.8301677703857422\n"
     ]
    }
   ],
   "source": [
    "desired_fpr = 0.005\n",
    "\n",
    "item_index = min(range(len(fpr)), key=lambda i: abs(fpr[i]-desired_fpr))\n",
    "item = fpr[item_index]\n",
    "print(f\"item at: {item_index}\\nwith fpr value : {item}\")\n",
    "print(f\"with tpr value : {tpr[item_index]}\")\n",
    "print(f\"using th : {thresholds[item_index]}\")"
   ]
  }
 ],
 "metadata": {
  "kernelspec": {
   "display_name": "Python 3",
   "language": "python",
   "name": "python3"
  },
  "language_info": {
   "codemirror_mode": {
    "name": "ipython",
    "version": 3
   },
   "file_extension": ".py",
   "mimetype": "text/x-python",
   "name": "python",
   "nbconvert_exporter": "python",
   "pygments_lexer": "ipython3",
   "version": "3.8.5"
  }
 },
 "nbformat": 4,
 "nbformat_minor": 4
}
